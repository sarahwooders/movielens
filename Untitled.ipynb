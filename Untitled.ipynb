{
 "cells": [
  {
   "cell_type": "code",
   "execution_count": 4,
   "metadata": {},
   "outputs": [
    {
     "name": "stderr",
     "output_type": "stream",
     "text": [
      "/home/allparel/miniconda3/lib/python3.6/site-packages/ipykernel_launcher.py:37: DeprecationWarning: \n",
      ".ix is deprecated. Please use\n",
      ".loc for label based indexing or\n",
      ".iloc for positional indexing\n",
      "\n",
      "See the documentation here:\n",
      "http://pandas.pydata.org/pandas-docs/stable/indexing.html#ix-indexer-is-deprecated\n"
     ]
    }
   ],
   "source": [
    "'''\n",
    "Tested on: Python 3.5.2, numpy 1.14.1, pandas 0.20.3\n",
    "\n",
    "Please read README for info about the dataset.\n",
    "\n",
    "**Please note that all code here is optional -- feel free to\n",
    "use a completely different implementation.**\n",
    "'''\n",
    "import numpy as np\n",
    "import pandas as pd\n",
    "\n",
    "np.random.seed(42)\n",
    "\n",
    "def get_user_data():\n",
    "    '''Returns user info as a Pandas DataFrame,\n",
    "    where rows are users and columns are the features\n",
    "    UserID, Gender, Age, Occupation, Zip Code'''\n",
    "    users_filename = \"users.dat\"\n",
    "    return pd.read_csv(users_filename, header=None, sep='::', engine='python')\n",
    "\n",
    "\n",
    "def get_movie_data():\n",
    "    '''Returns movie info as a Pandas DataFrame,\n",
    "    where rows are movies and columns are the features\n",
    "    MovieID, Title, Genres'''\n",
    "    movies_filename = \"movies.dat\"\n",
    "    return pd.read_csv(movies_filename, header=None, sep='::', engine='python')\n",
    "\n",
    "\n",
    "def get_rating_data():\n",
    "    '''Returns rating info as two 2D numpy arrays:\n",
    "    one for training and one for testing.\n",
    "    Rows are ratings and columns are\n",
    "    UserID, MovieID, Rating, Timestamp'''\n",
    "    ratings_filename = \"ratings.dat\"\n",
    "    df = pd.read_csv(ratings_filename, header=None, sep='::', engine='python')\n",
    "    data = df.ix[:,:2].values\n",
    "    np.random.shuffle(data)\n",
    "\n",
    "    train_length = int(df.shape[0] * .8)\n",
    "\n",
    "    train = data[:train_length]\n",
    "    test = data[train_length:]\n",
    "    return train, test\n",
    "\n",
    "data_train, data_test = get_rating_data()"
   ]
  },
  {
   "cell_type": "code",
   "execution_count": 5,
   "metadata": {},
   "outputs": [
    {
     "name": "stdout",
     "output_type": "stream",
     "text": [
      "6040 3952\n"
     ]
    }
   ],
   "source": [
    "def get_rating_matrix(df, num_users, num_movies):\n",
    "    '''Given a Pandas Dataframe containing UserID, MovieID, and Rating,\n",
    "    returns a 2D numpy array Y where Y[UserID][MovieID] = Rating for all entries\n",
    "    in df, with all other elements equal to None.'''\n",
    "    # Y = np.\n",
    "    #train, text = get_ratings_data()\n",
    "\n",
    "    matrix = np.zeros(shape=(num_users,num_movies))\n",
    "\n",
    "    max_movie = 0\n",
    "    max_user = 0\n",
    "\n",
    "    for row in df:\n",
    "        user = row[0]\n",
    "        movie = row[1]\n",
    "        rating = row[2]\n",
    "        matrix[user][movie] = rating\n",
    "\n",
    "        if movie > max_movie:\n",
    "            max_movie = movie\n",
    "        if user > max_user:\n",
    "            max_user = user\n",
    "    print(max_user, max_movie)\n",
    "\n",
    "\n",
    "    return matrix\n",
    "Y_prime = get_rating_matrix(data_train, 6041, 3953)"
   ]
  },
  {
   "cell_type": "code",
   "execution_count": 7,
   "metadata": {},
   "outputs": [],
   "source": [
    "U,sigma,V=np.linalg.svd(Y_prime)"
   ]
  },
  {
   "cell_type": "code",
   "execution_count": 12,
   "metadata": {},
   "outputs": [
    {
     "name": "stdout",
     "output_type": "stream",
     "text": [
      "(6041,)\n",
      "(3953, 1)\n",
      "[[0. 0. 0. ... 0. 0. 0.]\n",
      " [0. 0. 0. ... 0. 0. 0.]\n",
      " [0. 0. 0. ... 0. 0. 0.]\n",
      " ...\n",
      " [0. 0. 0. ... 0. 0. 0.]\n",
      " [0. 0. 0. ... 0. 0. 0.]\n",
      " [0. 0. 0. ... 0. 0. 0.]]\n"
     ]
    }
   ],
   "source": [
    "print(U[0].T.shape)\n",
    "print(V[0].reshape(3953,1).shape)\n",
    "\n",
    "print(U[0].reshape(6041,1)@V[0].reshape(3953,1).T)"
   ]
  },
  {
   "cell_type": "code",
   "execution_count": null,
   "metadata": {},
   "outputs": [],
   "source": [
    "tau_h=2\n",
    "A_hat = np.zeros(shape=(6041, 3953))\n",
    "\n",
    "for i in range(len(V)):\n",
    "    if sigma[i] > tau_h:\n",
    "        A_hat += sigma[i]*U[i].reshape(6041,1)@V[i].reshape(3953,1).T"
   ]
  }
 ],
 "metadata": {
  "kernelspec": {
   "display_name": "Python 3",
   "language": "python",
   "name": "python3"
  },
  "language_info": {
   "codemirror_mode": {
    "name": "ipython",
    "version": 3
   },
   "file_extension": ".py",
   "mimetype": "text/x-python",
   "name": "python",
   "nbconvert_exporter": "python",
   "pygments_lexer": "ipython3",
   "version": "3.6.5"
  }
 },
 "nbformat": 4,
 "nbformat_minor": 2
}
